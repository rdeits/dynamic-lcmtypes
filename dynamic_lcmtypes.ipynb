{
 "metadata": {
  "name": "",
  "signature": "sha256:645a5dd2ca071cab3995daeedb83aed8c9aed695b42285e7ddca84f739c21395"
 },
 "nbformat": 3,
 "nbformat_minor": 0,
 "worksheets": [
  {
   "cells": [
    {
     "cell_type": "code",
     "collapsed": false,
     "input": [
      "import importlib\n",
      "import imp\n",
      "import os\n",
      "import subprocess\n",
      "import tempfile\n",
      "import sys"
     ],
     "language": "python",
     "metadata": {},
     "outputs": [],
     "prompt_number": 10
    },
    {
     "cell_type": "code",
     "collapsed": false,
     "input": [
      "class HistoricalLCMLoader(object):\n",
      "    def __init__(self, package_name, type_name, lcmtypes_path, repo_path):\n",
      "        self.package_name = package_name\n",
      "        self.type_name = type_name\n",
      "        self.lcmtypes_path = lcmtypes_path\n",
      "        self.repo_path = repo_path\n",
      "        self.tmpdir = tempfile.mkdtemp()\n",
      "        self.build_dir = os.path.join(self.tmpdir, 'build')\n",
      "        os.mkdir(self.build_dir)\n",
      "        \n",
      "        shas = self.getAllCommitSHAs()\n",
      "        self.source_dir = os.path.join(self.tmpdir, 'source')\n",
      "        os.mkdir(self.source_dir)\n",
      "        for sha in shas:\n",
      "            sha_dir = os.path.join(self.source_dir, sha)\n",
      "            os.mkdir(sha_dir)\n",
      "            sha_build_dir = os.path.join(self.build_dir, sha)\n",
      "            os.mkdir(sha_build_dir)\n",
      "            source_files = subprocess.check_output(\n",
      "                \"git -C {base:s} show {sha:s}:{lcmtypes_path:s}\".format(base=self.repo_path, sha=sha, lcmtypes_path=self.lcmtypes_path),\n",
      "                shell=True)\n",
      "            source_files = [s for s in source_files.split('\\n') if s.endswith('.lcm')]\n",
      "            for f in source_files:\n",
      "                fname = os.path.join(sha_dir, f)\n",
      "                subprocess.check_call(\"git -C {base:s} show {sha:s}:{typepath:s} > {fname:s}\".format(\n",
      "                              base=self.repo_path, sha=sha, typepath=os.path.join(self.lcmtypes_path, f), fname=fname),\n",
      "                          shell=True)\n",
      "                subprocess.check_call(\"lcm-gen --lazy -p --ppath {build:s} {source:s}\".format(\n",
      "                                      build=sha_build_dir, source=fname), shell=True)\n",
      "\n",
      "    @property\n",
      "    def relative_type_path(self):\n",
      "        return os.path.join(self.lcmtypes_path, \"{package_name:s}_{type_name:s}.lcm\".format(package_name=self.package_name, type_name=self.type_name))\n",
      "\n",
      "    def getAllCommitSHAs(self):\n",
      "        \"\"\"\n",
      "        Get the sha1 of every commit that touched the lcmtype source file\n",
      "        \"\"\"\n",
      "        cdata, stderr = subprocess.Popen(\"git --no-pager -C {0:s} log --pretty=oneline {1:s}\".format(self.repo_path, self.relative_type_path), shell=True, stdout=subprocess.PIPE).communicate()\n",
      "        shas = [c[:40] for c in cdata.split('\\n') if len(c) >= 40]\n",
      "        return shas\n",
      "\n",
      "    def getLCMTypeFromSHA(self, sha):\n",
      "#         handle, fname = tempfile.mkstemp()\n",
      "#         subprocess.check_call(\"git -C {base:s} show {sha:s}:{typepath:s} > {fname:s}\".format(\n",
      "#                                   base=self.repo_path, sha=sha, typepath=self.relative_type_path, fname=fname),\n",
      "#                               shell=True)\n",
      "#         source_files = subprocess.check_output(\n",
      "#             \"git -C {base:s} show {sha:s}:{lcmtypes_path:s}\".format(base=self.repo_path, sha=sha, lcmtypes_path=self.lcmtypes_path),\n",
      "#             shell=True)\n",
      "#         source_files = [s for s in source_files.split('\\n') if s.endswith('.lcm')]\n",
      "# #         print source_files[:5]\n",
      "#         print self.tmpdir\n",
      "#         for f in source_files:\n",
      "#             subprocess.check_call(\"lcm-gen --lazy -p --ppath {tmpdir:s} {f:s}\".format(\n",
      "#                                   tmpdir=self.tmpdir, f=os.path.join(self.repo_path, self.lcmtypes_path, f)), shell=True)\n",
      "        sha_build_dir = os.path.join(self.build_dir, sha)\n",
      "        print sha_build_dir\n",
      "        path = sys.path[:]\n",
      "        sys.path.insert(0, sha_build_dir)\n",
      "        \n",
      "#         module = importlib.import_module('.' + self.type_name, self.package_name)\n",
      "#         reload(module)\n",
      "#         compiled_type = os.path.join(tmpdir, self.package_name, self.type_name + '.py')\n",
      "        module = imp.load_source(self.type_name, os.path.join(sha_build_dir, self.package_name, self.type_name + '.py'))\n",
      "        sys.path = path\n",
      "        return module.__dict__[self.type_name]\n"
     ],
     "language": "python",
     "metadata": {},
     "outputs": [],
     "prompt_number": 14
    },
    {
     "cell_type": "code",
     "collapsed": false,
     "input": [
      "package_name = 'drc'\n",
      "type_name = 'footstep_plan_t'\n",
      "lcmtypes_path = \"software/drc_lcmtypes/lcmtypes\"\n",
      "repo_path = os.getenv(\"DRC_BASE\")\n",
      "l = HistoricalLCMLoader(package_name, type_name, lcmtypes_path, repo_path)"
     ],
     "language": "python",
     "metadata": {},
     "outputs": [],
     "prompt_number": 16
    },
    {
     "cell_type": "code",
     "collapsed": false,
     "input": [
      "l.getLCMTypeFromSHA(l.getAllCommitSHAs()[2]).__dict__"
     ],
     "language": "python",
     "metadata": {},
     "outputs": [
      {
       "output_type": "stream",
       "stream": "stdout",
       "text": [
        "/tmp/tmpmrwuE4/build/fa0d2d544ae59530c48ae2e9d670988e9ec40462\n"
       ]
      },
      {
       "metadata": {},
       "output_type": "pyout",
       "prompt_number": 19,
       "text": [
        "<dictproxy {'__doc__': None,\n",
        " '__init__': <function footstep_plan_t.__init__>,\n",
        " '__module__': 'footstep_plan_t',\n",
        " '__slots__': ['utime', 'num_steps', 'footsteps'],\n",
        " '_decode_one': <staticmethod at 0x7fe2df2ee2f0>,\n",
        " '_encode_one': <function footstep_plan_t._encode_one>,\n",
        " '_get_hash_recursive': <staticmethod at 0x7fe2df2ee328>,\n",
        " '_get_packed_fingerprint': <staticmethod at 0x7fe2df2ee360>,\n",
        " '_hash': None,\n",
        " '_packed_fingerprint': None,\n",
        " 'decode': <staticmethod at 0x7fe2df2ee2b8>,\n",
        " 'encode': <function footstep_plan_t.encode>,\n",
        " 'footsteps': <member 'footsteps' of 'footstep_plan_t' objects>,\n",
        " 'num_steps': <member 'num_steps' of 'footstep_plan_t' objects>,\n",
        " 'utime': <member 'utime' of 'footstep_plan_t' objects>}>"
       ]
      }
     ],
     "prompt_number": 19
    },
    {
     "cell_type": "code",
     "collapsed": false,
     "input": [],
     "language": "python",
     "metadata": {},
     "outputs": []
    }
   ],
   "metadata": {}
  }
 ]
}