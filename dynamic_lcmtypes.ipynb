{
 "metadata": {
  "name": "",
  "signature": "sha256:78bf0512bcea795cada35840c8eada84dcf3eee49d43e00cb03bb4fdb6a83fe8"
 },
 "nbformat": 3,
 "nbformat_minor": 0,
 "worksheets": [
  {
   "cells": [
    {
     "cell_type": "code",
     "collapsed": false,
     "input": [
      "import importlib\n",
      "import imp\n",
      "import os\n",
      "import subprocess\n",
      "import tempfile\n",
      "import sys\n",
      "import re"
     ],
     "language": "python",
     "metadata": {},
     "outputs": [],
     "prompt_number": 1
    },
    {
     "cell_type": "code",
     "collapsed": false,
     "input": [
      "class HistoricalLCMLoader(object):\n",
      "    def __init__(self, package_name, lcmtypes_path, repo_path):\n",
      "        self.package_name = package_name\n",
      "        self.lcmtypes_path = lcmtypes_path\n",
      "        self.repo_path = repo_path\n",
      "        self._initialized = False\n",
      "        self.tmpdir = tempfile.mkdtemp()\n",
      "        self.type_cache = {}\n",
      "        print self.tmpdir\n",
      "        self.build_dir = os.path.join(self.tmpdir, 'build')\n",
      "        os.mkdir(self.build_dir)\n",
      "        \n",
      "        self._mru_shas_cache = {}\n",
      "        self.source_dir = os.path.join(self.tmpdir, 'source')\n",
      "        os.mkdir(self.source_dir)\n",
      "        \n",
      "    def restore_types_recursive(self, type_name, sha, restored_types=None):\n",
      "        if restored_types is None:\n",
      "            restored_types = set([])\n",
      "        sha_dir = os.path.join(self.source_dir, sha)\n",
      "        if not os.path.exists(sha_dir):\n",
      "            os.mkdir(sha_dir)\n",
      "        fname = self.get_filename_for_type(type_name)\n",
      "        fpath = os.path.join(sha_dir, fname)\n",
      "        subprocess.check_call(\"git -C {base:s} show {sha:s}:{typepath:s} > {fpath:s}\".format(\n",
      "                                base=self.repo_path, sha=sha, \n",
      "                                typepath=os.path.join(self.lcmtypes_path, fname), \n",
      "                                fpath=fpath),\n",
      "                             shell=True)\n",
      "        restored_types.add(type_name)\n",
      "        debug_data = subprocess.check_output(\"lcm-gen -d {fpath:s}\".format(fpath=fpath),\n",
      "                                             shell=True)\n",
      "        debug_lines = debug_data.split('\\n')\n",
      "        assert re.match(r\"struct {pkg:s}\\.{type_name:s} \".format(pkg=self.package_name, type_name=type_name), \n",
      "                        debug_lines[0])\n",
      "        for line in debug_lines:\n",
      "            line = line.lstrip()\n",
      "            match = re.match(r\"{pkg:s}\\.(?P<childname>[^\\s]+)\".format(pkg=self.package_name), line)\n",
      "            if match:\n",
      "                child_name = match.groupdict()['childname']\n",
      "                if child_name not in restored_types:\n",
      "                    self.restore_types_recursive(child_name, sha, restored_types)\n",
      "    \n",
      "    def build_type_at_sha(self, type_name, sha):\n",
      "        sha_source_dir = os.path.join(self.source_dir, sha)\n",
      "        fname = self.get_filename_for_type(type_name)\n",
      "        source_path = os.path.join(sha_source_dir, fname)\n",
      "        if not os.path.exists(source_path):\n",
      "            self.restore_types_recursive(type_name, sha)\n",
      "        \n",
      "        sha_build_dir = os.path.join(self.build_dir, sha)\n",
      "        if not os.path.exists(sha_build_dir):\n",
      "            os.mkdir(sha_build_dir)\n",
      "        subprocess.check_call(\"lcm-gen --lazy -p --ppath {build:s} {source:s}\".format(\n",
      "                                      build=sha_build_dir, \n",
      "                                      source=os.path.join(sha_source_dir, '*')), \n",
      "                              shell=True)\n",
      "        \n",
      "    def load_type_at_sha(self, type_name, sha):\n",
      "        sha_build_dir = os.path.join(self.build_dir, sha)\n",
      "        fname = self.get_filename_for_type(type_name)\n",
      "        type_build_path = os.path.join(sha_build_dir, fname)\n",
      "        if not os.path.exists(type_build_path):\n",
      "            self.build_type_at_sha(type_name, sha)\n",
      "        path = sys.path[:]\n",
      "        sys.path.insert(0, sha_build_dir)\n",
      "        module = imp.load_source(type_name, os.path.join(sha_build_dir, self.package_name, type_name + '.py'))\n",
      "        sys.path = path\n",
      "        return module.__dict__[type_name]\n",
      "            \n",
      "    def get_type(self, type_name, sha):\n",
      "        if not (type_name, sha) in self.type_cache:\n",
      "            self.type_cache[(type_name, sha)] = self.load_type_at_sha(type_name, sha)\n",
      "            \n",
      "        return self.type_cache[(type_name, sha)]\n",
      "        \n",
      "    def get_all_commit_shas(self, type_name):\n",
      "        \"\"\"\n",
      "        Get the sha1 of every commit that touched the lcmtype source file\n",
      "        \"\"\"\n",
      "        relative_type_path = os.path.join(self.lcmtypes_path, \"{package_name:s}_{type_name:s}.lcm\".format(\n",
      "            package_name=self.package_name, type_name=type_name))\n",
      "        cdata, stderr = subprocess.Popen(\"git --no-pager -C {0:s} log --pretty=oneline {1:s}\".format(\n",
      "            self.repo_path, relative_type_path), shell=True, stdout=subprocess.PIPE).communicate()\n",
      "        shas = [c[:40] for c in cdata.split('\\n') if len(c) >= 40]\n",
      "#         shas = [\"7bad68833c6a8fe2a5c7645876f89477a6e641ea\"]\n",
      "        return shas\n",
      "\n",
      "    def get_filename_for_type(self, type_name):\n",
      "        return self.package_name + '_' + type_name + '.lcm'\n",
      "    \n",
      "    def decode(self, type_name, msg_data):\n",
      "        \"\"\"\n",
      "        Try to decode an LCM message using its historical definitions. Uses a MRU (most recently used) queue of commit SHAs to try to ensure that repeated calls for messages of the same type are fast\n",
      "        \"\"\"\n",
      "        i = 0\n",
      "        if not type_name in self._mru_shas_cache:\n",
      "            self._mru_shas_cache[type_name] = self.get_all_commit_shas(type_name)\n",
      "        for i, sha in enumerate(self._mru_shas_cache[type_name]):\n",
      "            msg_class = self.get_type(type_name, sha)\n",
      "            try:\n",
      "                print \"Trying to decode using definition of type from commit {sha:s}\".format(sha=sha[:8])\n",
      "                msg_obj = msg_class.decode(msg_data)\n",
      "            except ValueError as e:\n",
      "                print \"failed\"\n",
      "#                 raise(e)\n",
      "                continue    \n",
      "            print \"success\"\n",
      "            self._mru_shas_cache[type_name].pop(i)\n",
      "            self._mru_shas_cache[type_name].insert(0, sha)\n",
      "            return msg_obj\n",
      "        raise ValueError(\"Unable to decode message data with any available type definitions.\")\n"
     ],
     "language": "python",
     "metadata": {},
     "outputs": [],
     "prompt_number": 45
    },
    {
     "cell_type": "code",
     "collapsed": false,
     "input": [
      "package_name = 'drc'\n",
      "type_name = 'footstep_plan_t'\n",
      "lcmtypes_path = \"software/drc_lcmtypes/lcmtypes\"\n",
      "repo_path = os.getenv(\"DRC_BASE\")\n",
      "l = HistoricalLCMLoader(package_name, lcmtypes_path, repo_path)"
     ],
     "language": "python",
     "metadata": {},
     "outputs": [
      {
       "output_type": "stream",
       "stream": "stdout",
       "text": [
        "/tmp/tmpXwTivz\n"
       ]
      }
     ],
     "prompt_number": 46
    },
    {
     "cell_type": "code",
     "collapsed": false,
     "input": [
      "l.decode(type_name, h.last_msg)"
     ],
     "language": "python",
     "metadata": {},
     "outputs": [
      {
       "output_type": "stream",
       "stream": "stdout",
       "text": [
        "Trying to decode using definition of type from commit 7bad6883\n",
        "success\n"
       ]
      },
      {
       "metadata": {},
       "output_type": "pyout",
       "prompt_number": 48,
       "text": [
        "<footstep_plan_t.footstep_plan_t at 0x7f23dadf5c68>"
       ]
      }
     ],
     "prompt_number": 48
    },
    {
     "cell_type": "code",
     "collapsed": false,
     "input": [
      "drc"
     ],
     "language": "python",
     "metadata": {},
     "outputs": [
      {
       "metadata": {},
       "output_type": "pyout",
       "prompt_number": 19,
       "text": [
        "<module 'drc' from '/home/rdeits/drc/software/build/lib/python2.7/dist-packages/drc/__init__.pyc'>"
       ]
      }
     ],
     "prompt_number": 19
    },
    {
     "cell_type": "code",
     "collapsed": false,
     "input": [
      "import lcm\n",
      "lc = lcm.LCM()\n",
      "class Handler(object):\n",
      "    def __init__(self):\n",
      "        self.last_msg = None\n",
      "    def handle(self, ch, msg):\n",
      "        self.last_msg = msg\n",
      "        print \"got one\"\n",
      "h = Handler()\n",
      "lc.subscribe('FOOTSTEP_PLAN_RESPONSE', h.handle)\n",
      "lc.handle()"
     ],
     "language": "python",
     "metadata": {},
     "outputs": [
      {
       "output_type": "stream",
       "stream": "stdout",
       "text": [
        "got one\n"
       ]
      }
     ],
     "prompt_number": 6
    },
    {
     "cell_type": "code",
     "collapsed": false,
     "input": [
      "l.getLCMTypeFromSHA(l.getAllCommitSHAs()[0]).__dict__"
     ],
     "language": "python",
     "metadata": {},
     "outputs": [
      {
       "output_type": "stream",
       "stream": "stdout",
       "text": [
        "/tmp/tmp9WjpjI/build/8a71b214310ce5cd54e01006af2a6ea922e31fa6\n"
       ]
      },
      {
       "metadata": {},
       "output_type": "pyout",
       "prompt_number": 60,
       "text": [
        "<dictproxy {'__doc__': None,\n",
        " '__init__': <function footstep_plan_t.__init__>,\n",
        " '__module__': 'footstep_plan_t',\n",
        " '__slots__': ['utime', 'num_steps', 'footsteps', 'params'],\n",
        " '_decode_one': <staticmethod at 0x7fe2dda83f30>,\n",
        " '_encode_one': <function footstep_plan_t._encode_one>,\n",
        " '_get_hash_recursive': <staticmethod at 0x7fe2dda83f68>,\n",
        " '_get_packed_fingerprint': <staticmethod at 0x7fe2dda83fa0>,\n",
        " '_hash': None,\n",
        " '_packed_fingerprint': None,\n",
        " 'decode': <staticmethod at 0x7fe2dda83ef8>,\n",
        " 'encode': <function footstep_plan_t.encode>,\n",
        " 'footsteps': <member 'footsteps' of 'footstep_plan_t' objects>,\n",
        " 'num_steps': <member 'num_steps' of 'footstep_plan_t' objects>,\n",
        " 'params': <member 'params' of 'footstep_plan_t' objects>,\n",
        " 'utime': <member 'utime' of 'footstep_plan_t' objects>}>"
       ]
      }
     ],
     "prompt_number": 60
    },
    {
     "cell_type": "code",
     "collapsed": false,
     "input": [],
     "language": "python",
     "metadata": {},
     "outputs": []
    }
   ],
   "metadata": {}
  }
 ]
}