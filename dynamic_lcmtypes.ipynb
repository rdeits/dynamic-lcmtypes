{
 "metadata": {
  "name": "",
  "signature": "sha256:c8ed9af3f844c445b7c5132f750d36ea6d9d5ff294ff7210eeb3ff15197463fc"
 },
 "nbformat": 3,
 "nbformat_minor": 0,
 "worksheets": [
  {
   "cells": [
    {
     "cell_type": "code",
     "collapsed": false,
     "input": [
      "import importlib\n",
      "import imp\n",
      "import os\n",
      "import subprocess\n",
      "import tempfile\n",
      "import sys\n",
      "import re"
     ],
     "language": "python",
     "metadata": {},
     "outputs": [],
     "prompt_number": 1
    },
    {
     "cell_type": "code",
     "collapsed": false,
     "input": [
      "import drc"
     ],
     "language": "python",
     "metadata": {},
     "outputs": [],
     "prompt_number": 2
    },
    {
     "cell_type": "code",
     "collapsed": false,
     "input": [
      "class HistoricalLCMLoader(object):\n",
      "    def __init__(self, package_name, lcmtypes_path, repo_path):\n",
      "        self.package_name = package_name\n",
      "        self.lcmtypes_path = lcmtypes_path\n",
      "        self.repo_path = repo_path\n",
      "        self._initialized = False\n",
      "        self.tmpdir = tempfile.mkdtemp()\n",
      "        self.type_cache = {}\n",
      "        print self.tmpdir\n",
      "        self.build_dir = os.path.join(self.tmpdir, 'build')\n",
      "        os.mkdir(self.build_dir)\n",
      "        \n",
      "        self._mru_shas_cache = {}\n",
      "        self.source_dir = os.path.join(self.tmpdir, 'source')\n",
      "        os.mkdir(self.source_dir)\n",
      "        \n",
      "    def restore_types_recursive(self, type_name, sha, restored_types=None):\n",
      "        if restored_types is None:\n",
      "            restored_types = set([])\n",
      "        sha_dir = os.path.join(self.source_dir, sha)\n",
      "        if not os.path.exists(sha_dir):\n",
      "            os.mkdir(sha_dir)\n",
      "        fname = self.get_filename_for_type(type_name)\n",
      "        fpath = os.path.join(sha_dir, fname)\n",
      "        subprocess.check_call(\"git -C {base:s} show {sha:s}:{typepath:s} > {fpath:s}\".format(\n",
      "                                base=self.repo_path, sha=sha, \n",
      "                                typepath=os.path.join(self.lcmtypes_path, fname), \n",
      "                                fpath=fpath),\n",
      "                             shell=True)\n",
      "        restored_types.add(type_name)\n",
      "        debug_data = subprocess.check_output(\"lcm-gen -d {fpath:s}\".format(fpath=fpath),\n",
      "                                             shell=True)\n",
      "        debug_lines = debug_data.split('\\n')\n",
      "        assert re.match(r\"struct {pkg:s}\\.{type_name:s} \".format(pkg=self.package_name, type_name=type_name), \n",
      "                        debug_lines[0])\n",
      "        for line in debug_lines:\n",
      "            line = line.lstrip()\n",
      "            match = re.match(r\"{pkg:s}\\.(?P<childname>[^\\s]+)\".format(pkg=self.package_name), line)\n",
      "            if match:\n",
      "                child_name = match.groupdict()['childname']\n",
      "                if child_name not in restored_types:\n",
      "                    self.restore_types_recursive(child_name, sha, restored_types)\n",
      "    \n",
      "    def build_type_at_sha(self, type_name, sha):\n",
      "        sha_source_dir = os.path.join(self.source_dir, sha)\n",
      "        fname = self.get_filename_for_type(type_name)\n",
      "        source_path = os.path.join(sha_source_dir, fname)\n",
      "        if not os.path.exists(source_path):\n",
      "            self.restore_types_recursive(type_name, sha)\n",
      "        \n",
      "        sha_build_dir = os.path.join(self.build_dir, sha)\n",
      "        if not os.path.exists(sha_build_dir):\n",
      "            os.mkdir(sha_build_dir)\n",
      "        subprocess.check_call(\"lcm-gen --lazy -p --ppath {build:s} {source:s}\".format(\n",
      "                                      build=sha_build_dir, \n",
      "                                      source=os.path.join(sha_source_dir, '*')), \n",
      "                              shell=True)\n",
      "        build_files = [f for f in os.listdir(os.path.join(sha_build_dir, self.package_name))\n",
      "                       if f.endswith('.py')]\n",
      "        build_type_names = [t.replace('.py', '') for t in build_files]\n",
      "        for f in build_files:\n",
      "            for t in build_type_names:\n",
      "                subprocess.check_call(r'sed \"s/from .{t:s} import/from {pkg:s}{sha:s}.{t:s} import/\" < {fpath:s} > {fpath:s}.tmp && mv {fpath:s}.tmp {fpath:s}'.format(\n",
      "                    pkg=self.package_name, t=t, sha=sha, fpath=os.path.join(sha_build_dir, self.package_name, f)),\n",
      "                                      shell=True)\n",
      "                subprocess.check_call(r'sed \"s/import {pkg:s}.{t:s}/import {pkg:s}{sha:s}.{t:s}/\" < {fpath:s} > {fpath:s}.tmp && mv {fpath:s}.tmp {fpath:s}'.format(\n",
      "                    pkg=self.package_name, t=t, sha=sha, fpath=os.path.join(sha_build_dir, self.package_name, f)),\n",
      "                                      shell=True)\n",
      "                subprocess.check_call(r'sed \"s/{pkg:s}.{t:s}/{pkg:s}{sha:s}.{t:s}/\" < {fpath:s} > {fpath:s}.tmp && mv {fpath:s}.tmp {fpath:s}'.format(\n",
      "                    pkg=self.package_name, t=t, sha=sha, fpath=os.path.join(sha_build_dir, self.package_name, f)),\n",
      "                                      shell=True)\n",
      "        final_pkg_dir = os.path.join(sha_build_dir, self.package_name + str(sha))\n",
      "        if not os.path.exists(final_pkg_dir):\n",
      "            os.mkdir(final_pkg_dir)\n",
      "        subprocess.check_call(\"mv {pkg:s}/*.py {final:s}/\".format(\n",
      "             pkg=os.path.join(sha_build_dir, self.package_name),\n",
      "             final=final_pkg_dir), shell=True)\n",
      "            \n",
      "        \n",
      "    def load_type_at_sha(self, type_name, sha):\n",
      "        sha_build_dir = os.path.join(self.build_dir, sha)\n",
      "        fname = self.get_filename_for_type(type_name)\n",
      "        type_build_path = os.path.join(sha_build_dir, fname)\n",
      "        if not os.path.exists(type_build_path):\n",
      "            self.build_type_at_sha(type_name, sha)\n",
      "        path = sys.path[:]\n",
      "        sys.path.insert(0, sha_build_dir)\n",
      "#         module = __import__(self.package_name + str(sha))\n",
      "#         module = imp.load_source(type_name, os.path.join(sha_build_dir, self.package_name + str(sha), type_name + '.py'))\n",
      "        module = imp.load_source(type_name, os.path.join(sha_build_dir, self.package_name, type_name + '.py'))\n",
      "        sys.path = path\n",
      "        return module.__dict__[type_name]\n",
      "            \n",
      "    def get_type(self, type_name, sha):\n",
      "        if not (type_name, sha) in self.type_cache:\n",
      "            self.type_cache[(type_name, sha)] = self.load_type_at_sha(type_name, sha)\n",
      "            \n",
      "        return self.type_cache[(type_name, sha)]\n",
      "        \n",
      "    def get_all_commit_shas(self, type_name):\n",
      "        \"\"\"\n",
      "        Get the sha1 of every commit that touched the lcmtype source file\n",
      "        \"\"\"\n",
      "        relative_type_path = os.path.join(self.lcmtypes_path, \"{package_name:s}_{type_name:s}.lcm\".format(\n",
      "            package_name=self.package_name, type_name=type_name))\n",
      "        cdata, stderr = subprocess.Popen(\"git --no-pager -C {0:s} log --pretty=oneline {1:s}\".format(\n",
      "            self.repo_path, relative_type_path), shell=True, stdout=subprocess.PIPE).communicate()\n",
      "        shas = [c[:40] for c in cdata.split('\\n') if len(c) >= 40]\n",
      "#         shas = [\"7bad68833c6a8fe2a5c7645876f89477a6e641ea\"]\n",
      "        return shas\n",
      "\n",
      "    def get_filename_for_type(self, type_name):\n",
      "        return self.package_name + '_' + type_name + '.lcm'\n",
      "    \n",
      "    def decode(self, type_name, msg_data):\n",
      "        \"\"\"\n",
      "        Try to decode an LCM message using its historical definitions. Uses a MRU (most recently used) queue of commit SHAs to try to ensure that repeated calls for messages of the same type are fast\n",
      "        \"\"\"\n",
      "        i = 0\n",
      "        if not type_name in self._mru_shas_cache:\n",
      "            self._mru_shas_cache[type_name] = self.get_all_commit_shas(type_name)\n",
      "        for i, sha in enumerate(self._mru_shas_cache[type_name]):\n",
      "            msg_class = self.get_type(type_name, sha)\n",
      "            try:\n",
      "                print \"Trying to decode using definition of type from commit {sha:s}\".format(sha=sha[:8])\n",
      "                msg_obj = msg_class.decode(msg_data)\n",
      "            except ValueError as e:\n",
      "                print \"failed\"\n",
      "#                 raise(e)\n",
      "                continue    \n",
      "            print \"success\"\n",
      "            self._mru_shas_cache[type_name].pop(i)\n",
      "            self._mru_shas_cache[type_name].insert(0, sha)\n",
      "            return msg_obj\n",
      "        raise ValueError(\"Unable to decode message data with any available type definitions.\")\n",
      "        \n",
      "    def run_translator(self, subscriptions):\n",
      "        lc = lcm.LCM()\n",
      "        for channel, type_name in subscriptions:\n",
      "            lc.subscribe(channel, lambda ch, msg: self.decode(type_name, msg))\n"
     ],
     "language": "python",
     "metadata": {},
     "outputs": [],
     "prompt_number": 7
    },
    {
     "cell_type": "code",
     "collapsed": false,
     "input": [
      "package_name = 'drc'\n",
      "type_name = 'footstep_plan_t'\n",
      "lcmtypes_path = \"software/drc_lcmtypes/lcmtypes\"\n",
      "repo_path = os.getenv(\"DRC_BASE\")\n",
      "l = HistoricalLCMLoader(package_name, lcmtypes_path, repo_path)"
     ],
     "language": "python",
     "metadata": {},
     "outputs": [
      {
       "output_type": "stream",
       "stream": "stdout",
       "text": [
        "/tmp/tmpiYr5a5\n"
       ]
      }
     ],
     "prompt_number": 8
    },
    {
     "cell_type": "code",
     "collapsed": false,
     "input": [
      "l.get_type(type_name, \"7bad68833c6a8fe2a5c7645876f89477a6e641ea\").decode(h.last_msg)"
     ],
     "language": "python",
     "metadata": {},
     "outputs": [
      {
       "ename": "ValueError",
       "evalue": "Decode error",
       "output_type": "pyerr",
       "traceback": [
        "\u001b[1;31m---------------------------------------------------------------------------\u001b[0m\n\u001b[1;31mValueError\u001b[0m                                Traceback (most recent call last)",
        "\u001b[1;32m<ipython-input-9-38ba0f74f26d>\u001b[0m in \u001b[0;36m<module>\u001b[1;34m()\u001b[0m\n\u001b[1;32m----> 1\u001b[1;33m \u001b[0ml\u001b[0m\u001b[1;33m.\u001b[0m\u001b[0mget_type\u001b[0m\u001b[1;33m(\u001b[0m\u001b[0mtype_name\u001b[0m\u001b[1;33m,\u001b[0m \u001b[1;34m\"7bad68833c6a8fe2a5c7645876f89477a6e641ea\"\u001b[0m\u001b[1;33m)\u001b[0m\u001b[1;33m.\u001b[0m\u001b[0mdecode\u001b[0m\u001b[1;33m(\u001b[0m\u001b[0mh\u001b[0m\u001b[1;33m.\u001b[0m\u001b[0mlast_msg\u001b[0m\u001b[1;33m)\u001b[0m\u001b[1;33m\u001b[0m\u001b[0m\n\u001b[0m",
        "\u001b[1;32m/tmp/tmpiYr5a5/build/7bad68833c6a8fe2a5c7645876f89477a6e641ea/drc/footstep_plan_t.py\u001b[0m in \u001b[0;36mdecode\u001b[1;34m(data)\u001b[0m\n\u001b[0;32m     38\u001b[0m             \u001b[0mbuf\u001b[0m \u001b[1;33m=\u001b[0m \u001b[0mBytesIO\u001b[0m\u001b[1;33m(\u001b[0m\u001b[0mdata\u001b[0m\u001b[1;33m)\u001b[0m\u001b[1;33m\u001b[0m\u001b[0m\n\u001b[0;32m     39\u001b[0m         \u001b[1;32mif\u001b[0m \u001b[0mbuf\u001b[0m\u001b[1;33m.\u001b[0m\u001b[0mread\u001b[0m\u001b[1;33m(\u001b[0m\u001b[1;36m8\u001b[0m\u001b[1;33m)\u001b[0m \u001b[1;33m!=\u001b[0m \u001b[0mfootstep_plan_t\u001b[0m\u001b[1;33m.\u001b[0m\u001b[0m_get_packed_fingerprint\u001b[0m\u001b[1;33m(\u001b[0m\u001b[1;33m)\u001b[0m\u001b[1;33m:\u001b[0m\u001b[1;33m\u001b[0m\u001b[0m\n\u001b[1;32m---> 40\u001b[1;33m             \u001b[1;32mraise\u001b[0m \u001b[0mValueError\u001b[0m\u001b[1;33m(\u001b[0m\u001b[1;34m\"Decode error\"\u001b[0m\u001b[1;33m)\u001b[0m\u001b[1;33m\u001b[0m\u001b[0m\n\u001b[0m\u001b[0;32m     41\u001b[0m         \u001b[1;32mreturn\u001b[0m \u001b[0mfootstep_plan_t\u001b[0m\u001b[1;33m.\u001b[0m\u001b[0m_decode_one\u001b[0m\u001b[1;33m(\u001b[0m\u001b[0mbuf\u001b[0m\u001b[1;33m)\u001b[0m\u001b[1;33m\u001b[0m\u001b[0m\n\u001b[0;32m     42\u001b[0m     \u001b[0mdecode\u001b[0m \u001b[1;33m=\u001b[0m \u001b[0mstaticmethod\u001b[0m\u001b[1;33m(\u001b[0m\u001b[0mdecode\u001b[0m\u001b[1;33m)\u001b[0m\u001b[1;33m\u001b[0m\u001b[0m\n",
        "\u001b[1;31mValueError\u001b[0m: Decode error"
       ]
      }
     ],
     "prompt_number": 9
    },
    {
     "cell_type": "code",
     "collapsed": false,
     "input": [
      "l.decode(type_name, h.last_msg)"
     ],
     "language": "python",
     "metadata": {},
     "outputs": [
      {
       "ename": "ImportError",
       "evalue": "No module named footstep_plan_params_t",
       "output_type": "pyerr",
       "traceback": [
        "\u001b[1;31m---------------------------------------------------------------------------\u001b[0m\n\u001b[1;31mImportError\u001b[0m                               Traceback (most recent call last)",
        "\u001b[1;32m<ipython-input-10-8a97f95bc0d1>\u001b[0m in \u001b[0;36m<module>\u001b[1;34m()\u001b[0m\n\u001b[1;32m----> 1\u001b[1;33m \u001b[0ml\u001b[0m\u001b[1;33m.\u001b[0m\u001b[0mdecode\u001b[0m\u001b[1;33m(\u001b[0m\u001b[0mtype_name\u001b[0m\u001b[1;33m,\u001b[0m \u001b[0mh\u001b[0m\u001b[1;33m.\u001b[0m\u001b[0mlast_msg\u001b[0m\u001b[1;33m)\u001b[0m\u001b[1;33m\u001b[0m\u001b[0m\n\u001b[0m",
        "\u001b[1;32m<ipython-input-7-86addad37983>\u001b[0m in \u001b[0;36mdecode\u001b[1;34m(self, type_name, msg_data)\u001b[0m\n\u001b[0;32m    121\u001b[0m             \u001b[0mself\u001b[0m\u001b[1;33m.\u001b[0m\u001b[0m_mru_shas_cache\u001b[0m\u001b[1;33m[\u001b[0m\u001b[0mtype_name\u001b[0m\u001b[1;33m]\u001b[0m \u001b[1;33m=\u001b[0m \u001b[0mself\u001b[0m\u001b[1;33m.\u001b[0m\u001b[0mget_all_commit_shas\u001b[0m\u001b[1;33m(\u001b[0m\u001b[0mtype_name\u001b[0m\u001b[1;33m)\u001b[0m\u001b[1;33m\u001b[0m\u001b[0m\n\u001b[0;32m    122\u001b[0m         \u001b[1;32mfor\u001b[0m \u001b[0mi\u001b[0m\u001b[1;33m,\u001b[0m \u001b[0msha\u001b[0m \u001b[1;32min\u001b[0m \u001b[0menumerate\u001b[0m\u001b[1;33m(\u001b[0m\u001b[0mself\u001b[0m\u001b[1;33m.\u001b[0m\u001b[0m_mru_shas_cache\u001b[0m\u001b[1;33m[\u001b[0m\u001b[0mtype_name\u001b[0m\u001b[1;33m]\u001b[0m\u001b[1;33m)\u001b[0m\u001b[1;33m:\u001b[0m\u001b[1;33m\u001b[0m\u001b[0m\n\u001b[1;32m--> 123\u001b[1;33m             \u001b[0mmsg_class\u001b[0m \u001b[1;33m=\u001b[0m \u001b[0mself\u001b[0m\u001b[1;33m.\u001b[0m\u001b[0mget_type\u001b[0m\u001b[1;33m(\u001b[0m\u001b[0mtype_name\u001b[0m\u001b[1;33m,\u001b[0m \u001b[0msha\u001b[0m\u001b[1;33m)\u001b[0m\u001b[1;33m\u001b[0m\u001b[0m\n\u001b[0m\u001b[0;32m    124\u001b[0m             \u001b[1;32mtry\u001b[0m\u001b[1;33m:\u001b[0m\u001b[1;33m\u001b[0m\u001b[0m\n\u001b[0;32m    125\u001b[0m                 \u001b[1;32mprint\u001b[0m \u001b[1;34m\"Trying to decode using definition of type from commit {sha:s}\"\u001b[0m\u001b[1;33m.\u001b[0m\u001b[0mformat\u001b[0m\u001b[1;33m(\u001b[0m\u001b[0msha\u001b[0m\u001b[1;33m=\u001b[0m\u001b[0msha\u001b[0m\u001b[1;33m[\u001b[0m\u001b[1;33m:\u001b[0m\u001b[1;36m8\u001b[0m\u001b[1;33m]\u001b[0m\u001b[1;33m)\u001b[0m\u001b[1;33m\u001b[0m\u001b[0m\n",
        "\u001b[1;32m<ipython-input-7-86addad37983>\u001b[0m in \u001b[0;36mget_type\u001b[1;34m(self, type_name, sha)\u001b[0m\n\u001b[0;32m     94\u001b[0m     \u001b[1;32mdef\u001b[0m \u001b[0mget_type\u001b[0m\u001b[1;33m(\u001b[0m\u001b[0mself\u001b[0m\u001b[1;33m,\u001b[0m \u001b[0mtype_name\u001b[0m\u001b[1;33m,\u001b[0m \u001b[0msha\u001b[0m\u001b[1;33m)\u001b[0m\u001b[1;33m:\u001b[0m\u001b[1;33m\u001b[0m\u001b[0m\n\u001b[0;32m     95\u001b[0m         \u001b[1;32mif\u001b[0m \u001b[1;32mnot\u001b[0m \u001b[1;33m(\u001b[0m\u001b[0mtype_name\u001b[0m\u001b[1;33m,\u001b[0m \u001b[0msha\u001b[0m\u001b[1;33m)\u001b[0m \u001b[1;32min\u001b[0m \u001b[0mself\u001b[0m\u001b[1;33m.\u001b[0m\u001b[0mtype_cache\u001b[0m\u001b[1;33m:\u001b[0m\u001b[1;33m\u001b[0m\u001b[0m\n\u001b[1;32m---> 96\u001b[1;33m             \u001b[0mself\u001b[0m\u001b[1;33m.\u001b[0m\u001b[0mtype_cache\u001b[0m\u001b[1;33m[\u001b[0m\u001b[1;33m(\u001b[0m\u001b[0mtype_name\u001b[0m\u001b[1;33m,\u001b[0m \u001b[0msha\u001b[0m\u001b[1;33m)\u001b[0m\u001b[1;33m]\u001b[0m \u001b[1;33m=\u001b[0m \u001b[0mself\u001b[0m\u001b[1;33m.\u001b[0m\u001b[0mload_type_at_sha\u001b[0m\u001b[1;33m(\u001b[0m\u001b[0mtype_name\u001b[0m\u001b[1;33m,\u001b[0m \u001b[0msha\u001b[0m\u001b[1;33m)\u001b[0m\u001b[1;33m\u001b[0m\u001b[0m\n\u001b[0m\u001b[0;32m     97\u001b[0m \u001b[1;33m\u001b[0m\u001b[0m\n\u001b[0;32m     98\u001b[0m         \u001b[1;32mreturn\u001b[0m \u001b[0mself\u001b[0m\u001b[1;33m.\u001b[0m\u001b[0mtype_cache\u001b[0m\u001b[1;33m[\u001b[0m\u001b[1;33m(\u001b[0m\u001b[0mtype_name\u001b[0m\u001b[1;33m,\u001b[0m \u001b[0msha\u001b[0m\u001b[1;33m)\u001b[0m\u001b[1;33m]\u001b[0m\u001b[1;33m\u001b[0m\u001b[0m\n",
        "\u001b[1;32m<ipython-input-7-86addad37983>\u001b[0m in \u001b[0;36mload_type_at_sha\u001b[1;34m(self, type_name, sha)\u001b[0m\n\u001b[0;32m     88\u001b[0m \u001b[1;31m#         module = __import__(self.package_name + str(sha))\u001b[0m\u001b[1;33m\u001b[0m\u001b[1;33m\u001b[0m\u001b[0m\n\u001b[0;32m     89\u001b[0m \u001b[1;31m#         module = imp.load_source(type_name, os.path.join(sha_build_dir, self.package_name + str(sha), type_name + '.py'))\u001b[0m\u001b[1;33m\u001b[0m\u001b[1;33m\u001b[0m\u001b[0m\n\u001b[1;32m---> 90\u001b[1;33m         \u001b[0mmodule\u001b[0m \u001b[1;33m=\u001b[0m \u001b[0mimp\u001b[0m\u001b[1;33m.\u001b[0m\u001b[0mload_source\u001b[0m\u001b[1;33m(\u001b[0m\u001b[0mtype_name\u001b[0m\u001b[1;33m,\u001b[0m \u001b[0mos\u001b[0m\u001b[1;33m.\u001b[0m\u001b[0mpath\u001b[0m\u001b[1;33m.\u001b[0m\u001b[0mjoin\u001b[0m\u001b[1;33m(\u001b[0m\u001b[0msha_build_dir\u001b[0m\u001b[1;33m,\u001b[0m \u001b[0mself\u001b[0m\u001b[1;33m.\u001b[0m\u001b[0mpackage_name\u001b[0m\u001b[1;33m,\u001b[0m \u001b[0mtype_name\u001b[0m \u001b[1;33m+\u001b[0m \u001b[1;34m'.py'\u001b[0m\u001b[1;33m)\u001b[0m\u001b[1;33m)\u001b[0m\u001b[1;33m\u001b[0m\u001b[0m\n\u001b[0m\u001b[0;32m     91\u001b[0m         \u001b[0msys\u001b[0m\u001b[1;33m.\u001b[0m\u001b[0mpath\u001b[0m \u001b[1;33m=\u001b[0m \u001b[0mpath\u001b[0m\u001b[1;33m\u001b[0m\u001b[0m\n\u001b[0;32m     92\u001b[0m         \u001b[1;32mreturn\u001b[0m \u001b[0mmodule\u001b[0m\u001b[1;33m.\u001b[0m\u001b[0m__dict__\u001b[0m\u001b[1;33m[\u001b[0m\u001b[0mtype_name\u001b[0m\u001b[1;33m]\u001b[0m\u001b[1;33m\u001b[0m\u001b[0m\n",
        "\u001b[1;32m/tmp/tmpiYr5a5/build/8a71b214310ce5cd54e01006af2a6ea922e31fa6/drc/footstep_plan_t.py\u001b[0m in \u001b[0;36m<module>\u001b[1;34m()\u001b[0m\n\u001b[0;32m     12\u001b[0m \u001b[1;32mimport\u001b[0m \u001b[0mdrc\u001b[0m\u001b[1;33m.\u001b[0m\u001b[0mfootstep_t\u001b[0m\u001b[1;33m\u001b[0m\u001b[0m\n\u001b[0;32m     13\u001b[0m \u001b[1;33m\u001b[0m\u001b[0m\n\u001b[1;32m---> 14\u001b[1;33m \u001b[1;32mimport\u001b[0m \u001b[0mdrc\u001b[0m\u001b[1;33m.\u001b[0m\u001b[0mfootstep_plan_params_t\u001b[0m\u001b[1;33m\u001b[0m\u001b[0m\n\u001b[0m\u001b[0;32m     15\u001b[0m \u001b[1;33m\u001b[0m\u001b[0m\n\u001b[0;32m     16\u001b[0m \u001b[1;32mclass\u001b[0m \u001b[0mfootstep_plan_t\u001b[0m\u001b[1;33m(\u001b[0m\u001b[0mobject\u001b[0m\u001b[1;33m)\u001b[0m\u001b[1;33m:\u001b[0m\u001b[1;33m\u001b[0m\u001b[0m\n",
        "\u001b[1;31mImportError\u001b[0m: No module named footstep_plan_params_t"
       ]
      }
     ],
     "prompt_number": 10
    },
    {
     "cell_type": "code",
     "collapsed": false,
     "input": [
      "import lcm\n",
      "lc = lcm.LCM()\n",
      "class Handler(object):\n",
      "    def __init__(self):\n",
      "        self.last_msg = None\n",
      "    def handle(self, ch, msg):\n",
      "        self.last_msg = msg\n",
      "        print \"got one\"\n",
      "h = Handler()\n",
      "lc.subscribe('FOOTSTEP_PLAN_RESPONSE', h.handle)\n",
      "# lc.subscribe('ATLAS_STATUS', h.handle)\n",
      "lc.handle()"
     ],
     "language": "python",
     "metadata": {},
     "outputs": [
      {
       "output_type": "stream",
       "stream": "stdout",
       "text": [
        "got one\n"
       ]
      }
     ],
     "prompt_number": 5
    },
    {
     "cell_type": "code",
     "collapsed": false,
     "input": [
      "l.decode('atlas_status_t', h.last_msg)"
     ],
     "language": "python",
     "metadata": {},
     "outputs": [
      {
       "output_type": "stream",
       "stream": "stdout",
       "text": [
        "Trying to decode using definition of type from commit 7f1f1957\n",
        "success\n"
       ]
      },
      {
       "metadata": {},
       "output_type": "pyout",
       "prompt_number": 51,
       "text": [
        "<atlas_status_t.atlas_status_t at 0x7f23dae4dd98>"
       ]
      }
     ],
     "prompt_number": 51
    },
    {
     "cell_type": "code",
     "collapsed": false,
     "input": [
      "drc"
     ],
     "language": "python",
     "metadata": {},
     "outputs": [
      {
       "metadata": {},
       "output_type": "pyout",
       "prompt_number": 10,
       "text": [
        "<module 'drc' from '/tmp/tmpXHaGJN/build/406fa635fbf175f28318b4bbfea610fa7121d7b2/drc/__init__.py'>"
       ]
      }
     ],
     "prompt_number": 10
    },
    {
     "cell_type": "code",
     "collapsed": false,
     "input": [
      "drc.footstep_plan_t"
     ],
     "language": "python",
     "metadata": {},
     "outputs": [
      {
       "metadata": {},
       "output_type": "pyout",
       "prompt_number": 11,
       "text": [
        "drc.footstep_plan_t.footstep_plan_t"
       ]
      }
     ],
     "prompt_number": 11
    },
    {
     "cell_type": "code",
     "collapsed": false,
     "input": [],
     "language": "python",
     "metadata": {},
     "outputs": []
    }
   ],
   "metadata": {}
  }
 ]
}